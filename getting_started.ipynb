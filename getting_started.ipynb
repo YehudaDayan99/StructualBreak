{
  "cells": [
    {
      "cell_type": "markdown",
      "metadata": {},
      "source": [
        "# ADIA Refactored – Getting Started\n",
        "\n",
        "This notebook gives a gentle intro to working with the `adia_refactored` package from a notebook environment. It covers:\n",
        "\n",
        "- Ensuring your environment can import the package\n",
        "- A quick single-series demo\n",
        "- A small batch demo using Parquet files\n",
        "- (Optional) Running the included example script\n",
        "\n",
        "If you see import errors for `numpy`/`pandas`/`pyarrow`, run the optional install cell below and then restart the kernel.\n"
      ]
    },
    {
      "cell_type": "code",
      "execution_count": 1,
      "metadata": {},
      "outputs": [
        {
          "name": "stdout",
          "output_type": "stream",
          "text": [
            "Dependencies appear to be installed. Skipping install.\n"
          ]
        }
      ],
      "source": [
        "# Optional: install project dependencies into the active kernel\n",
        "# If imports fail later, run this, then restart the kernel and re-run\n",
        "import sys\n",
        "import subprocess\n",
        "\n",
        "def ensure_deps():\n",
        "    try:\n",
        "        import numpy  # noqa: F401\n",
        "        import pandas  # noqa: F401\n",
        "        import pyarrow  # noqa: F401\n",
        "        print(\"Dependencies appear to be installed. Skipping install.\")\n",
        "        return\n",
        "    except Exception:\n",
        "        pass\n",
        "    print(\"Installing requirements...\")\n",
        "    subprocess.check_call([sys.executable, \"-m\", \"pip\", \"install\", \"-r\", \"requirements.txt\"])  # nosec\n",
        "\n",
        "ensure_deps()\n"
      ]
    },
    {
      "cell_type": "code",
      "execution_count": 2,
      "metadata": {},
      "outputs": [
        {
          "name": "stdout",
          "output_type": "stream",
          "text": [
            "Imports OK and config validated.\n"
          ]
        },
        {
          "name": "stderr",
          "output_type": "stream",
          "text": [
            "c:\\Users\\yehud\\adia_refactored\\.venv\\Lib\\site-packages\\tqdm\\auto.py:21: TqdmWarning: IProgress not found. Please update jupyter and ipywidgets. See https://ipywidgets.readthedocs.io/en/stable/user_install.html\n",
            "  from .autonotebook import tqdm as notebook_tqdm\n"
          ]
        }
      ],
      "source": [
        "# Setup: make package importable and validate config\n",
        "import sys, pathlib\n",
        "\n",
        "project_root = pathlib.Path().resolve()\n",
        "parent_dir = project_root.parent\n",
        "if str(parent_dir) not in sys.path:\n",
        "    sys.path.insert(0, str(parent_dir))\n",
        "\n",
        "from adia_refactored import compute_predictors_for_values, run_batch, validate_config\n",
        "validate_config()\n",
        "print(\"Imports OK and config validated.\")\n"
      ]
    },
    {
      "cell_type": "code",
      "execution_count": 3,
      "metadata": {},
      "outputs": [
        {
          "data": {
            "text/plain": [
              "({'p_mu_lag1': 1.0,\n",
              "  'p_sigma_lag1': 0.19047619047619047,\n",
              "  'overlap_frac_lag1': 0.475,\n",
              "  'p_mu_vol': 1.0,\n",
              "  'p_sigma_vol': 0.14285714285714285,\n",
              "  'overlap_frac_vol': 0.475,\n",
              "  'p_mu_resid_lag1': 1.0,\n",
              "  'p_sigma_resid_lag1': 0.42857142857142855,\n",
              "  'overlap_frac_resid_lag1': 0.4,\n",
              "  'p_mean': 2.553060822633691e-14,\n",
              "  'p_var': 0.003419625023376895,\n",
              "  'p_MWU': 4.7077819611781626e-11,\n",
              "  'p_energy': nan,\n",
              "  'acf_absdiff_l1': 0.32185753393519023},\n",
              " {'n_total_lag1': 119,\n",
              "  'n_p0_lag1': 59,\n",
              "  'n_p1_lag1': 60,\n",
              "  'n_total_vol': 118,\n",
              "  'n_p0_vol': 58,\n",
              "  'n_p1_vol': 60,\n",
              "  'n_period0': 59,\n",
              "  'n_period1': 60,\n",
              "  'n_total': 119})"
            ]
          },
          "execution_count": 3,
          "metadata": {},
          "output_type": "execute_result"
        }
      ],
      "source": [
        "# Single-series demo\n",
        "import numpy as np\n",
        "\n",
        "np.random.seed(42)\n",
        "n = 120\n",
        "bp = 60\n",
        "values = np.concatenate([\n",
        "    np.random.normal(0, 1.0, bp),\n",
        "    np.random.normal(1.5, 1.5, n - bp),\n",
        "])\n",
        "periods = np.concatenate([np.zeros(bp), np.ones(n - bp)])\n",
        "\n",
        "preds, meta = compute_predictors_for_values(values, periods, B_boot=20, energy_enable=False)\n",
        "preds, meta\n"
      ]
    },
    {
      "cell_type": "code",
      "execution_count": 4,
      "metadata": {},
      "outputs": [
        {
          "name": "stderr",
          "output_type": "stream",
          "text": [
            "INFO:adia_refactored.batch_processor:Loading _tmp_notebook\\sample_batch.parquet\n",
            "INFO:adia_refactored.batch_processor:Total series: 4\n",
            "INFO:adia_refactored.batch_processor:Saved predictors to: _tmp_notebook\\sample_predictors.parquet\n",
            "INFO:adia_refactored.batch_processor:Saved metadata to: _tmp_notebook\\sample_metadata.parquet\n"
          ]
        },
        {
          "name": "stdout",
          "output_type": "stream",
          "text": [
            "Processed series: 4\n",
            "Predictor columns: 14\n"
          ]
        },
        {
          "data": {
            "text/plain": [
              "(          p_mu_lag1  p_sigma_lag1  overlap_frac_lag1  p_mu_vol  p_sigma_vol  \\\n",
              " id                                                                            \n",
              " series_0        1.0      0.380952              0.525  0.238095     0.047619   \n",
              " series_1        1.0      0.047619              0.325  1.000000     0.190476   \n",
              " series_2        1.0      0.238095              0.500  1.000000     0.952381   \n",
              " series_3        1.0      0.857143              0.350  0.142857     0.476190   \n",
              " \n",
              "           overlap_frac_vol  p_mu_resid_lag1  p_sigma_resid_lag1  \\\n",
              " id                                                                \n",
              " series_0             0.700              1.0            0.095238   \n",
              " series_1             0.400              1.0            0.285714   \n",
              " series_2             0.675              1.0            0.238095   \n",
              " series_3             0.625              1.0            0.761905   \n",
              " \n",
              "           overlap_frac_resid_lag1    p_mean     p_var     p_MWU  p_energy  \\\n",
              " id                                                                          \n",
              " series_0                    0.550  0.000037  0.569776  0.000499       NaN   \n",
              " series_1                    0.350  0.750634  0.000358  0.906329       NaN   \n",
              " series_2                    0.500  0.000010  0.505994  0.000056       NaN   \n",
              " series_3                    0.325  0.559324  0.000531  0.617007       NaN   \n",
              " \n",
              "           acf_absdiff_l1  \n",
              " id                        \n",
              " series_0        0.926189  \n",
              " series_1        0.515500  \n",
              " series_2        0.216103  \n",
              " series_3        0.496989  ,\n",
              "           n_total_lag1  n_p0_lag1  n_p1_lag1  n_total_vol  n_p0_vol  n_p1_vol  \\\n",
              " id                                                                              \n",
              " series_0            79         39         40           78        38        40   \n",
              " series_1            79         39         40           78        38        40   \n",
              " series_2            79         39         40           78        38        40   \n",
              " series_3            79         39         40           78        38        40   \n",
              " \n",
              "           n_period0  n_period1  n_total  \n",
              " id                                       \n",
              " series_0         39         40       79  \n",
              " series_1         39         40       79  \n",
              " series_2         39         40       79  \n",
              " series_3         39         40       79  )"
            ]
          },
          "execution_count": 4,
          "metadata": {},
          "output_type": "execute_result"
        }
      ],
      "source": [
        "# Batch demo (writes and reads Parquet files under _tmp_notebook)\n",
        "from pathlib import Path\n",
        "import numpy as np\n",
        "import pandas as pd\n",
        "\n",
        "# Prepare synthetic batch\n",
        "tmp_dir = Path(\"_tmp_notebook\"); tmp_dir.mkdir(exist_ok=True)\n",
        "frames = []\n",
        "for i in range(4):\n",
        "    np.random.seed(100 + i)\n",
        "    n = 80; bp = 40\n",
        "    if i % 2 == 0:\n",
        "        vals = np.concatenate([np.random.normal(0, 1.0, bp),\n",
        "                               np.random.normal(1.2, 1.0, n - bp)])\n",
        "    else:\n",
        "        vals = np.concatenate([np.random.normal(0, 0.8, bp),\n",
        "                               np.random.normal(0, 1.8, n - bp)])\n",
        "    periods = np.concatenate([np.zeros(bp), np.ones(n - bp)])\n",
        "    df = pd.DataFrame({\"value\": vals, \"period\": periods})\n",
        "    df.index = pd.MultiIndex.from_tuples([(f\"series_{i}\", t) for t in range(n)], names=[\"id\", \"time\"])\n",
        "    frames.append(df)\n",
        "\n",
        "all_df = pd.concat(frames).sort_index()\n",
        "\n",
        "in_path = tmp_dir / \"sample_batch.parquet\"\n",
        "out_pred = tmp_dir / \"sample_predictors.parquet\"\n",
        "out_meta = tmp_dir / \"sample_metadata.parquet\"\n",
        "\n",
        "all_df.to_parquet(in_path)\n",
        "\n",
        "pred_df, meta_df = run_batch(\n",
        "    input_parquet=str(in_path),\n",
        "    out_pred_parquet=str(out_pred),\n",
        "    out_meta_parquet=str(out_meta),\n",
        "    B_boot=20,\n",
        "    energy_enable=False,\n",
        "    n_jobs=1,\n",
        "    verbose=False,\n",
        ")\n",
        "\n",
        "print(f\"Processed series: {len(pred_df)}\")\n",
        "print(f\"Predictor columns: {len(pred_df.columns)}\")\n",
        "pred_df.head(), meta_df.head()\n"
      ]
    },
    {
      "cell_type": "code",
      "execution_count": null,
      "metadata": {},
      "outputs": [],
      "source": [
        "# Optional: run the included script and (optionally) clean up temp files\n",
        "print(\"Running example_usage.py ...\")\n",
        "%run example_usage.py\n",
        "\n",
        "# Optional cleanup for this notebook's temp files\n",
        "from pathlib import Path\n",
        "for p in Path(\"_tmp_notebook\").glob(\"*.parquet\"):\n",
        "    try:\n",
        "        p.unlink()\n",
        "    except Exception:\n",
        "        pass\n"
      ]
    },
    {
      "cell_type": "code",
      "execution_count": 5,
      "metadata": {},
      "outputs": [
        {
          "name": "stderr",
          "output_type": "stream",
          "text": [
            "INFO:adia_refactored.batch_processor:Loading C:\\Users\\yehud\\OneDrive\\Curriculum Vitae\\ADIA\\StructualBreak\\X_train.parquet\n"
          ]
        },
        {
          "name": "stdout",
          "output_type": "stream",
          "text": [
            "Reading: C:\\Users\\yehud\\OneDrive\\Curriculum Vitae\\ADIA\\StructualBreak\\X_train.parquet\n"
          ]
        },
        {
          "name": "stderr",
          "output_type": "stream",
          "text": [
            "INFO:adia_refactored.batch_processor:Total series: 10001\n",
            "Extracting predictors:   6%|▌         | 591/10001 [1:29:20<5:39:07,  2.16s/it]   "
          ]
        },
        {
          "ename": "KeyboardInterrupt",
          "evalue": "",
          "output_type": "error",
          "traceback": [
            "\u001b[31m---------------------------------------------------------------------------\u001b[39m",
            "\u001b[31mKeyboardInterrupt\u001b[39m                         Traceback (most recent call last)",
            "\u001b[36mCell\u001b[39m\u001b[36m \u001b[39m\u001b[32mIn[5]\u001b[39m\u001b[32m, line 12\u001b[39m\n\u001b[32m      8\u001b[39m out_meta_parquet = \u001b[33mr\u001b[39m\u001b[33m\"\u001b[39m\u001b[33mC:\u001b[39m\u001b[33m\\\u001b[39m\u001b[33mUsers\u001b[39m\u001b[33m\\\u001b[39m\u001b[33myehud\u001b[39m\u001b[33m\\\u001b[39m\u001b[33mOneDrive\u001b[39m\u001b[33m\\\u001b[39m\u001b[33mCurriculum Vitae\u001b[39m\u001b[33m\\\u001b[39m\u001b[33mADIA\u001b[39m\u001b[33m\\\u001b[39m\u001b[33mStructualBreak\u001b[39m\u001b[33m\\\u001b[39m\u001b[33mX_train_metadata.parquet\u001b[39m\u001b[33m\"\u001b[39m\n\u001b[32m     10\u001b[39m \u001b[38;5;28mprint\u001b[39m(\u001b[33m\"\u001b[39m\u001b[33mReading:\u001b[39m\u001b[33m\"\u001b[39m, input_parquet)\n\u001b[32m---> \u001b[39m\u001b[32m12\u001b[39m pred_df, meta_df = \u001b[43mrun_batch\u001b[49m\u001b[43m(\u001b[49m\n\u001b[32m     13\u001b[39m \u001b[43m    \u001b[49m\u001b[43minput_parquet\u001b[49m\u001b[43m=\u001b[49m\u001b[43minput_parquet\u001b[49m\u001b[43m,\u001b[49m\n\u001b[32m     14\u001b[39m \u001b[43m    \u001b[49m\u001b[43mout_pred_parquet\u001b[49m\u001b[43m=\u001b[49m\u001b[43mout_pred_parquet\u001b[49m\u001b[43m,\u001b[49m\n\u001b[32m     15\u001b[39m \u001b[43m    \u001b[49m\u001b[43mout_meta_parquet\u001b[49m\u001b[43m=\u001b[49m\u001b[43mout_meta_parquet\u001b[49m\u001b[43m,\u001b[49m\n\u001b[32m     16\u001b[39m \u001b[43m    \u001b[49m\u001b[43mB_boot\u001b[49m\u001b[43m=\u001b[49m\u001b[32;43m80\u001b[39;49m\u001b[43m,\u001b[49m\n\u001b[32m     17\u001b[39m \u001b[43m    \u001b[49m\u001b[43menergy_enable\u001b[49m\u001b[43m=\u001b[49m\u001b[38;5;28;43;01mFalse\u001b[39;49;00m\u001b[43m,\u001b[49m\n\u001b[32m     18\u001b[39m \u001b[43m    \u001b[49m\u001b[43mn_jobs\u001b[49m\u001b[43m=\u001b[49m\u001b[32;43m1\u001b[39;49m\u001b[43m,\u001b[49m\n\u001b[32m     19\u001b[39m \u001b[43m    \u001b[49m\u001b[43mverbose\u001b[49m\u001b[43m=\u001b[49m\u001b[38;5;28;43;01mTrue\u001b[39;49;00m\u001b[43m,\u001b[49m\n\u001b[32m     20\u001b[39m \u001b[43m)\u001b[49m\n\u001b[32m     22\u001b[39m \u001b[38;5;28mprint\u001b[39m(\u001b[33m\"\u001b[39m\u001b[33mSaved predictors to:\u001b[39m\u001b[33m\"\u001b[39m, out_pred_parquet)\n\u001b[32m     23\u001b[39m \u001b[38;5;28mprint\u001b[39m(\u001b[33m\"\u001b[39m\u001b[33mSaved metadata to:\u001b[39m\u001b[33m\"\u001b[39m, out_meta_parquet)\n",
            "\u001b[36mFile \u001b[39m\u001b[32m~\\adia_refactored\\batch_processor.py:115\u001b[39m, in \u001b[36mrun_batch\u001b[39m\u001b[34m(input_parquet, out_pred_parquet, out_meta_parquet, n_jobs, B_boot, seed, energy_enable, energy_B, energy_max_n, verbose)\u001b[39m\n\u001b[32m    112\u001b[39m logger.info(\u001b[33mf\u001b[39m\u001b[33m'\u001b[39m\u001b[33mTotal series: \u001b[39m\u001b[38;5;132;01m{\u001b[39;00m\u001b[38;5;28mlen\u001b[39m(ids)\u001b[38;5;132;01m}\u001b[39;00m\u001b[33m'\u001b[39m)\n\u001b[32m    114\u001b[39m iterator = tqdm(ids, desc=\u001b[33m'\u001b[39m\u001b[33mExtracting predictors\u001b[39m\u001b[33m'\u001b[39m) \u001b[38;5;28;01mif\u001b[39;00m verbose \u001b[38;5;28;01melse\u001b[39;00m ids\n\u001b[32m--> \u001b[39m\u001b[32m115\u001b[39m results = \u001b[43mParallel\u001b[49m\u001b[43m(\u001b[49m\u001b[43mn_jobs\u001b[49m\u001b[43m=\u001b[49m\u001b[43mn_jobs\u001b[49m\u001b[43m,\u001b[49m\u001b[43m \u001b[49m\u001b[43mverbose\u001b[49m\u001b[43m=\u001b[49m\u001b[32;43m0\u001b[39;49m\u001b[43m,\u001b[49m\u001b[43m \u001b[49m\u001b[43mbatch_size\u001b[49m\u001b[43m=\u001b[49m\u001b[32;43m1\u001b[39;49m\u001b[43m)\u001b[49m\u001b[43m(\u001b[49m\n\u001b[32m    116\u001b[39m \u001b[43m    \u001b[49m\u001b[43mdelayed\u001b[49m\u001b[43m(\u001b[49m\u001b[43mprocess_one_series\u001b[49m\u001b[43m)\u001b[49m\u001b[43m(\u001b[49m\u001b[43midv\u001b[49m\u001b[43m,\u001b[49m\u001b[43m \u001b[49m\u001b[43mdf\u001b[49m\u001b[43m.\u001b[49m\u001b[43mxs\u001b[49m\u001b[43m(\u001b[49m\u001b[43midv\u001b[49m\u001b[43m,\u001b[49m\u001b[43m \u001b[49m\u001b[43mlevel\u001b[49m\u001b[43m=\u001b[49m\u001b[33;43m'\u001b[39;49m\u001b[33;43mid\u001b[39;49m\u001b[33;43m'\u001b[39;49m\u001b[43m,\u001b[49m\u001b[43m \u001b[49m\u001b[43mdrop_level\u001b[49m\u001b[43m=\u001b[49m\u001b[38;5;28;43;01mFalse\u001b[39;49;00m\u001b[43m)\u001b[49m\u001b[43m,\u001b[49m\n\u001b[32m    117\u001b[39m \u001b[43m                                \u001b[49m\u001b[43mB_boot\u001b[49m\u001b[43m,\u001b[49m\u001b[43m \u001b[49m\u001b[43mseed\u001b[49m\u001b[43m,\u001b[49m\u001b[43m \u001b[49m\u001b[43menergy_enable\u001b[49m\u001b[43m,\u001b[49m\u001b[43m \u001b[49m\u001b[43menergy_B\u001b[49m\u001b[43m,\u001b[49m\u001b[43m \u001b[49m\u001b[43menergy_max_n\u001b[49m\u001b[43m)\u001b[49m\n\u001b[32m    118\u001b[39m \u001b[43m    \u001b[49m\u001b[38;5;28;43;01mfor\u001b[39;49;00m\u001b[43m \u001b[49m\u001b[43midv\u001b[49m\u001b[43m \u001b[49m\u001b[38;5;129;43;01min\u001b[39;49;00m\u001b[43m \u001b[49m\u001b[43miterator\u001b[49m\n\u001b[32m    119\u001b[39m \u001b[43m\u001b[49m\u001b[43m)\u001b[49m\n\u001b[32m    121\u001b[39m pred_rows = [r[\u001b[32m0\u001b[39m] \u001b[38;5;28;01mfor\u001b[39;00m r \u001b[38;5;129;01min\u001b[39;00m results]\n\u001b[32m    122\u001b[39m meta_rows = [r[\u001b[32m1\u001b[39m] \u001b[38;5;28;01mfor\u001b[39;00m r \u001b[38;5;129;01min\u001b[39;00m results]\n",
            "\u001b[36mFile \u001b[39m\u001b[32mc:\\Users\\yehud\\adia_refactored\\.venv\\Lib\\site-packages\\joblib\\parallel.py:1986\u001b[39m, in \u001b[36mParallel.__call__\u001b[39m\u001b[34m(self, iterable)\u001b[39m\n\u001b[32m   1984\u001b[39m     output = \u001b[38;5;28mself\u001b[39m._get_sequential_output(iterable)\n\u001b[32m   1985\u001b[39m     \u001b[38;5;28mnext\u001b[39m(output)\n\u001b[32m-> \u001b[39m\u001b[32m1986\u001b[39m     \u001b[38;5;28;01mreturn\u001b[39;00m output \u001b[38;5;28;01mif\u001b[39;00m \u001b[38;5;28mself\u001b[39m.return_generator \u001b[38;5;28;01melse\u001b[39;00m \u001b[38;5;28;43mlist\u001b[39;49m\u001b[43m(\u001b[49m\u001b[43moutput\u001b[49m\u001b[43m)\u001b[49m\n\u001b[32m   1988\u001b[39m \u001b[38;5;66;03m# Let's create an ID that uniquely identifies the current call. If the\u001b[39;00m\n\u001b[32m   1989\u001b[39m \u001b[38;5;66;03m# call is interrupted early and that the same instance is immediately\u001b[39;00m\n\u001b[32m   1990\u001b[39m \u001b[38;5;66;03m# reused, this id will be used to prevent workers that were\u001b[39;00m\n\u001b[32m   1991\u001b[39m \u001b[38;5;66;03m# concurrently finalizing a task from the previous call to run the\u001b[39;00m\n\u001b[32m   1992\u001b[39m \u001b[38;5;66;03m# callback.\u001b[39;00m\n\u001b[32m   1993\u001b[39m \u001b[38;5;28;01mwith\u001b[39;00m \u001b[38;5;28mself\u001b[39m._lock:\n",
            "\u001b[36mFile \u001b[39m\u001b[32mc:\\Users\\yehud\\adia_refactored\\.venv\\Lib\\site-packages\\joblib\\parallel.py:1914\u001b[39m, in \u001b[36mParallel._get_sequential_output\u001b[39m\u001b[34m(self, iterable)\u001b[39m\n\u001b[32m   1912\u001b[39m \u001b[38;5;28mself\u001b[39m.n_dispatched_batches += \u001b[32m1\u001b[39m\n\u001b[32m   1913\u001b[39m \u001b[38;5;28mself\u001b[39m.n_dispatched_tasks += \u001b[32m1\u001b[39m\n\u001b[32m-> \u001b[39m\u001b[32m1914\u001b[39m res = \u001b[43mfunc\u001b[49m\u001b[43m(\u001b[49m\u001b[43m*\u001b[49m\u001b[43margs\u001b[49m\u001b[43m,\u001b[49m\u001b[43m \u001b[49m\u001b[43m*\u001b[49m\u001b[43m*\u001b[49m\u001b[43mkwargs\u001b[49m\u001b[43m)\u001b[49m\n\u001b[32m   1915\u001b[39m \u001b[38;5;28mself\u001b[39m.n_completed_tasks += \u001b[32m1\u001b[39m\n\u001b[32m   1916\u001b[39m \u001b[38;5;28mself\u001b[39m.print_progress()\n",
            "\u001b[36mFile \u001b[39m\u001b[32m~\\adia_refactored\\batch_processor.py:36\u001b[39m, in \u001b[36mprocess_one_series\u001b[39m\u001b[34m(id_value, g, B_boot, seed, energy_enable, energy_B, energy_max_n)\u001b[39m\n\u001b[32m     34\u001b[39m     energy_max_n = ENERGY_MAX_N_PER_PERIOD\n\u001b[32m     35\u001b[39m series_seed = seed + \u001b[38;5;28mint\u001b[39m(\u001b[38;5;28mhash\u001b[39m(\u001b[38;5;28mstr\u001b[39m(id_value)) % \u001b[32m10_000\u001b[39m)\n\u001b[32m---> \u001b[39m\u001b[32m36\u001b[39m preds, meta = \u001b[43mcompute_predictors_for_values\u001b[49m\u001b[43m(\u001b[49m\u001b[43mvals\u001b[49m\u001b[43m,\u001b[49m\u001b[43m \u001b[49m\u001b[43mper\u001b[49m\u001b[43m,\u001b[49m\u001b[43m \u001b[49m\u001b[43mB_boot\u001b[49m\u001b[43m=\u001b[49m\u001b[43mB_boot\u001b[49m\u001b[43m,\u001b[49m\u001b[43m \u001b[49m\u001b[43mseed\u001b[49m\u001b[43m=\u001b[49m\u001b[43mseries_seed\u001b[49m\u001b[43m,\u001b[49m\n\u001b[32m     37\u001b[39m \u001b[43m                                            \u001b[49m\u001b[43menergy_enable\u001b[49m\u001b[43m=\u001b[49m\u001b[43menergy_enable\u001b[49m\u001b[43m,\u001b[49m\u001b[43m \u001b[49m\u001b[43menergy_B\u001b[49m\u001b[43m=\u001b[49m\u001b[43menergy_B\u001b[49m\u001b[43m,\u001b[49m\n\u001b[32m     38\u001b[39m \u001b[43m                                            \u001b[49m\u001b[43menergy_max_n\u001b[49m\u001b[43m=\u001b[49m\u001b[43menergy_max_n\u001b[49m\u001b[43m)\u001b[49m\n\u001b[32m     39\u001b[39m preds[\u001b[33m'\u001b[39m\u001b[33mid\u001b[39m\u001b[33m'\u001b[39m] = id_value\n\u001b[32m     40\u001b[39m meta[\u001b[33m'\u001b[39m\u001b[33mid\u001b[39m\u001b[33m'\u001b[39m] = id_value\n",
            "\u001b[36mFile \u001b[39m\u001b[32m~\\adia_refactored\\predictor_extractor.py:73\u001b[39m, in \u001b[36mcompute_predictors_for_values\u001b[39m\u001b[34m(vals, per, B_boot, seed, energy_enable, energy_B, energy_max_n)\u001b[39m\n\u001b[32m     71\u001b[39m h_r = get_bandwidth(n_r)\n\u001b[32m     72\u001b[39m x_grid_r = make_grid(Xr, h_r)\n\u001b[32m---> \u001b[39m\u001b[32m73\u001b[39m test_results_r = \u001b[43mconditional_test_summary\u001b[49m\u001b[43m(\u001b[49m\u001b[43mx_grid_r\u001b[49m\u001b[43m,\u001b[49m\u001b[43m \u001b[49m\u001b[43mXr\u001b[49m\u001b[43m,\u001b[49m\u001b[43m \u001b[49m\u001b[43mYr\u001b[49m\u001b[43m,\u001b[49m\u001b[43m \u001b[49m\u001b[43midx_split_r\u001b[49m\u001b[43m,\u001b[49m\u001b[43m \u001b[49m\u001b[43mh_r\u001b[49m\u001b[43m,\u001b[49m\u001b[43m \u001b[49m\u001b[43mB_boot\u001b[49m\u001b[43m,\u001b[49m\u001b[43m \u001b[49m\u001b[43mseed\u001b[49m\u001b[43m)\u001b[49m\n\u001b[32m     74\u001b[39m predictors[\u001b[33m'\u001b[39m\u001b[33mp_mu_resid_lag1\u001b[39m\u001b[33m'\u001b[39m] = test_results_r[\u001b[33m'\u001b[39m\u001b[33mp_mu\u001b[39m\u001b[33m'\u001b[39m]\n\u001b[32m     75\u001b[39m predictors[\u001b[33m'\u001b[39m\u001b[33mp_sigma_resid_lag1\u001b[39m\u001b[33m'\u001b[39m] = test_results_r[\u001b[33m'\u001b[39m\u001b[33mp_sigma\u001b[39m\u001b[33m'\u001b[39m]\n",
            "\u001b[36mFile \u001b[39m\u001b[32m~\\adia_refactored\\conditional_tests.py:57\u001b[39m, in \u001b[36mconditional_test_summary\u001b[39m\u001b[34m(x_grid, X, Y, idx_split, h, B, seed)\u001b[39m\n\u001b[32m     55\u001b[39m _, p_mu = circular_shift_bootstrap(T_mu_statistic, X, Y, idx_split, h, x_grid, B, seed)\n\u001b[32m     56\u001b[39m T_sig, overlap_sig = T_sigma_statistic(x_grid, X, Y, idx_split, h)\n\u001b[32m---> \u001b[39m\u001b[32m57\u001b[39m _, p_sig = \u001b[43mcircular_shift_bootstrap\u001b[49m\u001b[43m(\u001b[49m\u001b[43mT_sigma_statistic\u001b[49m\u001b[43m,\u001b[49m\u001b[43m \u001b[49m\u001b[43mX\u001b[49m\u001b[43m,\u001b[49m\u001b[43m \u001b[49m\u001b[43mY\u001b[49m\u001b[43m,\u001b[49m\u001b[43m \u001b[49m\u001b[43midx_split\u001b[49m\u001b[43m,\u001b[49m\u001b[43m \u001b[49m\u001b[43mh\u001b[49m\u001b[43m,\u001b[49m\u001b[43m \u001b[49m\u001b[43mx_grid\u001b[49m\u001b[43m,\u001b[49m\u001b[43m \u001b[49m\u001b[43mB\u001b[49m\u001b[43m,\u001b[49m\u001b[43m \u001b[49m\u001b[43mseed\u001b[49m\u001b[43m)\u001b[49m\n\u001b[32m     58\u001b[39m \u001b[38;5;28;01mreturn\u001b[39;00m {\n\u001b[32m     59\u001b[39m     \u001b[33m'\u001b[39m\u001b[33mT_mu\u001b[39m\u001b[33m'\u001b[39m: T_mu,\n\u001b[32m     60\u001b[39m     \u001b[33m'\u001b[39m\u001b[33mp_mu\u001b[39m\u001b[33m'\u001b[39m: p_mu,\n\u001b[32m   (...)\u001b[39m\u001b[32m     68\u001b[39m     \u001b[33m'\u001b[39m\u001b[33mn_after\u001b[39m\u001b[33m'\u001b[39m: \u001b[38;5;28mlen\u001b[39m(X) - idx_split - \u001b[32m1\u001b[39m\n\u001b[32m     69\u001b[39m }\n",
            "\u001b[36mFile \u001b[39m\u001b[32m~\\adia_refactored\\conditional_tests.py:48\u001b[39m, in \u001b[36mcircular_shift_bootstrap\u001b[39m\u001b[34m(stat_fn, X, Y, idx_split, h, x_grid, B, seed)\u001b[39m\n\u001b[32m     46\u001b[39m     Xb = np.roll(X, s)\n\u001b[32m     47\u001b[39m     Yb = np.roll(Y, s)\n\u001b[32m---> \u001b[39m\u001b[32m48\u001b[39m     Tb[b], _ = \u001b[43mstat_fn\u001b[49m\u001b[43m(\u001b[49m\u001b[43mx_grid\u001b[49m\u001b[43m,\u001b[49m\u001b[43m \u001b[49m\u001b[43mXb\u001b[49m\u001b[43m,\u001b[49m\u001b[43m \u001b[49m\u001b[43mYb\u001b[49m\u001b[43m,\u001b[49m\u001b[43m \u001b[49m\u001b[43midx_split\u001b[49m\u001b[43m,\u001b[49m\u001b[43m \u001b[49m\u001b[43mh\u001b[49m\u001b[43m)\u001b[49m\n\u001b[32m     49\u001b[39m p = (\u001b[32m1.0\u001b[39m + np.sum(Tb >= T_obs)) / (B + \u001b[32m1.0\u001b[39m)\n\u001b[32m     50\u001b[39m \u001b[38;5;28;01mreturn\u001b[39;00m \u001b[38;5;28mfloat\u001b[39m(T_obs), \u001b[38;5;28mfloat\u001b[39m(p)\n",
            "\u001b[36mFile \u001b[39m\u001b[32m~\\adia_refactored\\conditional_tests.py:28\u001b[39m, in \u001b[36mT_sigma_statistic\u001b[39m\u001b[34m(x_grid, X, Y, idx_split, h)\u001b[39m\n\u001b[32m     26\u001b[39m X1, Y1 = X[:idx_split+\u001b[32m1\u001b[39m], Y[:idx_split+\u001b[32m1\u001b[39m]\n\u001b[32m     27\u001b[39m X2, Y2 = X[idx_split+\u001b[32m1\u001b[39m:], Y[idx_split+\u001b[32m1\u001b[39m:]\n\u001b[32m---> \u001b[39m\u001b[32m28\u001b[39m mu1, _ = \u001b[43mjackknife_mu\u001b[49m\u001b[43m(\u001b[49m\u001b[43mx_grid\u001b[49m\u001b[43m,\u001b[49m\u001b[43m \u001b[49m\u001b[43mX1\u001b[49m\u001b[43m,\u001b[49m\u001b[43m \u001b[49m\u001b[43mY1\u001b[49m\u001b[43m,\u001b[49m\u001b[43m \u001b[49m\u001b[43mh\u001b[49m\u001b[43m)\u001b[49m\n\u001b[32m     29\u001b[39m mu2, _ = jackknife_mu(x_grid, X2, Y2, h)\n\u001b[32m     30\u001b[39m sig1 = np.sqrt(np.maximum(nw_variance(x_grid, X1, Y1, mu1, h), EPSILON))\n",
            "\u001b[36mFile \u001b[39m\u001b[32m~\\adia_refactored\\core_statistics.py:53\u001b[39m, in \u001b[36mjackknife_mu\u001b[39m\u001b[34m(x_grid, X, Y, h)\u001b[39m\n\u001b[32m     51\u001b[39m \u001b[38;5;28;01mdef\u001b[39;00m\u001b[38;5;250m \u001b[39m\u001b[34mjackknife_mu\u001b[39m(x_grid: np.ndarray, X: np.ndarray, Y: np.ndarray, h: \u001b[38;5;28mfloat\u001b[39m) -> Tuple[np.ndarray, np.ndarray]:\n\u001b[32m     52\u001b[39m     mu_h, fhat = nw_mean(x_grid, X, Y, h)\n\u001b[32m---> \u001b[39m\u001b[32m53\u001b[39m     mu_h2, _ = \u001b[43mnw_mean\u001b[49m\u001b[43m(\u001b[49m\u001b[43mx_grid\u001b[49m\u001b[43m,\u001b[49m\u001b[43m \u001b[49m\u001b[43mX\u001b[49m\u001b[43m,\u001b[49m\u001b[43m \u001b[49m\u001b[43mY\u001b[49m\u001b[43m,\u001b[49m\u001b[43m \u001b[49m\u001b[43mh\u001b[49m\u001b[43m/\u001b[49m\u001b[43mnp\u001b[49m\u001b[43m.\u001b[49m\u001b[43msqrt\u001b[49m\u001b[43m(\u001b[49m\u001b[32;43m2\u001b[39;49m\u001b[43m)\u001b[49m\u001b[43m)\u001b[49m\n\u001b[32m     54\u001b[39m     mu_star = \u001b[32m2\u001b[39m*mu_h - mu_h2\n\u001b[32m     55\u001b[39m     \u001b[38;5;28;01mreturn\u001b[39;00m mu_star, fhat\n",
            "\u001b[36mFile \u001b[39m\u001b[32m~\\adia_refactored\\core_statistics.py:44\u001b[39m, in \u001b[36mnw_mean\u001b[39m\u001b[34m(x_grid, X, Y, h)\u001b[39m\n\u001b[32m     42\u001b[39m \u001b[38;5;28;01mdef\u001b[39;00m\u001b[38;5;250m \u001b[39m\u001b[34mnw_mean\u001b[39m(x_grid: np.ndarray, X: np.ndarray, Y: np.ndarray, h: \u001b[38;5;28mfloat\u001b[39m) -> Tuple[np.ndarray, np.ndarray]:\n\u001b[32m     43\u001b[39m     U = (X[:, \u001b[38;5;28;01mNone\u001b[39;00m] - x_grid[\u001b[38;5;28;01mNone\u001b[39;00m, :]) / h\n\u001b[32m---> \u001b[39m\u001b[32m44\u001b[39m     W = \u001b[43mepanechnikov_kernel\u001b[49m\u001b[43m(\u001b[49m\u001b[43mU\u001b[49m\u001b[43m)\u001b[49m\n\u001b[32m     45\u001b[39m     denom = W.sum(axis=\u001b[32m0\u001b[39m) + EPSILON\n\u001b[32m     46\u001b[39m     mu = (W * Y[:, \u001b[38;5;28;01mNone\u001b[39;00m]).sum(axis=\u001b[32m0\u001b[39m) / denom\n",
            "\u001b[36mFile \u001b[39m\u001b[32m~\\adia_refactored\\core_statistics.py:19\u001b[39m, in \u001b[36mepanechnikov_kernel\u001b[39m\u001b[34m(u)\u001b[39m\n\u001b[32m     15\u001b[39m \u001b[38;5;28;01mfrom\u001b[39;00m\u001b[38;5;250m \u001b[39m\u001b[34;01mtyping\u001b[39;00m\u001b[38;5;250m \u001b[39m\u001b[38;5;28;01mimport\u001b[39;00m Tuple\n\u001b[32m     16\u001b[39m \u001b[38;5;28;01mfrom\u001b[39;00m\u001b[38;5;250m \u001b[39m\u001b[34;01m.\u001b[39;00m\u001b[34;01mconfig\u001b[39;00m\u001b[38;5;250m \u001b[39m\u001b[38;5;28;01mimport\u001b[39;00m GRID_MIN_POINTS, GRID_MAX_POINTS, EPSILON\n\u001b[32m---> \u001b[39m\u001b[32m19\u001b[39m \u001b[38;5;28;01mdef\u001b[39;00m\u001b[38;5;250m \u001b[39m\u001b[34mepanechnikov_kernel\u001b[39m(u: np.ndarray) -> np.ndarray:\n\u001b[32m     20\u001b[39m     w = np.maximum(\u001b[32m0.0\u001b[39m, \u001b[32m1.0\u001b[39m - u*u)\n\u001b[32m     21\u001b[39m     \u001b[38;5;28;01mreturn\u001b[39;00m \u001b[32m0.75\u001b[39m * w\n",
            "\u001b[31mKeyboardInterrupt\u001b[39m: "
          ]
        }
      ],
      "source": [
        "# Real-data batch run\n",
        "from pathlib import Path\n",
        "import os\n",
        "\n",
        "# Input files (edit paths if needed)\n",
        "input_parquet = r\"C:\\Users\\yehud\\OneDrive\\Curriculum Vitae\\ADIA\\StructualBreak\\X_train.parquet\"\n",
        "out_pred_parquet = r\"C:\\Users\\yehud\\OneDrive\\Curriculum Vitae\\ADIA\\StructualBreak\\X_train_predictors.parquet\"\n",
        "out_meta_parquet = r\"C:\\Users\\yehud\\OneDrive\\Curriculum Vitae\\ADIA\\StructualBreak\\X_train_metadata.parquet\"\n",
        "\n",
        "print(\"Reading:\", input_parquet)\n",
        "\n",
        "pred_df, meta_df = run_batch(\n",
        "    input_parquet=input_parquet,\n",
        "    out_pred_parquet=out_pred_parquet,\n",
        "    out_meta_parquet=out_meta_parquet,\n",
        "    B_boot=80,\n",
        "    energy_enable=False,\n",
        "    n_jobs=1,\n",
        "    verbose=True,\n",
        ")\n",
        "\n",
        "print(\"Saved predictors to:\", out_pred_parquet)\n",
        "print(\"Saved metadata to:\", out_meta_parquet)\n",
        "print(\"Predictors shape:\", pred_df.shape)\n",
        "print(\"Metadata shape:\", meta_df.shape)\n",
        "pred_df.head()\n"
      ]
    },
    {
      "cell_type": "code",
      "execution_count": null,
      "metadata": {},
      "outputs": [],
      "source": [
        "# Merge predictors with labels for inspection\n",
        "import pandas as pd\n",
        "\n",
        "labels_csv = r\"C:\\Users\\yehud\\OneDrive\\Curriculum Vitae\\ADIA\\StructualBreak\\y_train.csv\"\n",
        "print(\"Reading labels:\", labels_csv)\n",
        "labels = pd.read_csv(labels_csv)\n",
        "\n",
        "# Try common label column names; adjust if needed\n",
        "possible_label_cols = [\n",
        "    'structural', 'structural_', 'is_structural', 'label', 'target'\n",
        "]\n",
        "label_col = None\n",
        "for c in possible_label_cols:\n",
        "    if c in labels.columns:\n",
        "        label_col = c\n",
        "        break\n",
        "if label_col is None:\n",
        "    print(\"Available columns in labels:\", list(labels.columns))\n",
        "    raise ValueError(\"Could not find a label column. Set label_col to the correct name.\")\n",
        "\n",
        "# Ensure id is index to align with pred_df which is indexed by id\n",
        "if 'id' in labels.columns:\n",
        "    labels = labels.set_index('id')\n",
        "\n",
        "merged = pred_df.join(labels[[label_col]], how='inner')\n",
        "print(\"Merged shape:\", merged.shape)\n",
        "merged.head()\n"
      ]
    }
  ],
  "metadata": {
    "kernelspec": {
      "display_name": ".venv",
      "language": "python",
      "name": "python3"
    },
    "language_info": {
      "codemirror_mode": {
        "name": "ipython",
        "version": 3
      },
      "file_extension": ".py",
      "mimetype": "text/x-python",
      "name": "python",
      "nbconvert_exporter": "python",
      "pygments_lexer": "ipython3",
      "version": "3.13.1"
    }
  },
  "nbformat": 4,
  "nbformat_minor": 2
}

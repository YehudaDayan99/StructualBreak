{
  "cells": [
    {
      "cell_type": "markdown",
      "metadata": {},
      "source": [
        "Getting Started – Running the CLI (`main.py`)\n",
        "\n",
        "This section focuses on running the main entrypoint in different ways and with different control parameters.\n"
      ]
    },
    {
      "cell_type": "markdown",
      "metadata": {},
      "source": [
        "CLI usage examples\n",
        "\n",
        "Run from the repo root (PowerShell):\n",
        "\n",
        "```powershell\n",
        "# Minimal\n",
        "python .\\main.py --input X_train.parquet --output-pred X_train_predictors.parquet --output-meta X_train_metadata.parquet\n",
        "\n",
        "# More bootstrap reps, verbose\n",
        "python .\\main.py -i X_train.parquet -op X_train_predictors.parquet -om X_train_metadata.parquet -b 120 -v\n",
        "\n",
        "# Enable energy tests with custom permutations and max-n\n",
        "python .\\main.py -i X_train.parquet -op X_train_predictors.parquet -om X_train_metadata.parquet --energy-enable -ep 80 -emn 500\n",
        "\n",
        "# Limit parallelism and set seed\n",
        "python .\\main.py -i X_train.parquet -op X_train_predictors.parquet -om X_train_metadata.parquet -j 2 -s 42\n",
        "```\n"
      ]
    },
    {
      "cell_type": "code",
      "execution_count": null,
      "metadata": {},
      "outputs": [],
      "source": [
        "# Run main.py programmatically (no shell)\n",
        "import sys, subprocess\n",
        "\n",
        "def run_main(args):\n",
        "    cmd = [sys.executable, \"main.py\", *args]\n",
        "    print(\"Running:\", \" \".join(cmd))\n",
        "    result = subprocess.run(cmd, capture_output=False, check=True)\n",
        "\n",
        "# Example: minimal\n",
        "run_main([\"--input\", \"X_train.parquet\",\n",
        "          \"--output-pred\", \"X_train_predictors.parquet\",\n",
        "          \"--output-meta\", \"X_train_metadata.parquet\"])\n"
      ]
    },
    {
      "cell_type": "code",
      "execution_count": null,
      "metadata": {},
      "outputs": [],
      "source": [
        "# Parameter variations: loop through different configurations\n",
        "from itertools import product\n",
        "\n",
        "inputs = [\"X_train.parquet\"]\n",
        "boots = [40, 80]\n",
        "energy_flags = [False, True]\n",
        "energy_perms = [40]\n",
        "max_n = [400]\n",
        "seeds = [123, 42]\n",
        "\n",
        "for input_path, b, eflag, eperm, emn, seed in product(inputs, boots, energy_flags, energy_perms, max_n, seeds):\n",
        "    args = [\n",
        "        \"--input\", input_path,\n",
        "        \"--output-pred\", f\"predictors_b{b}_e{int(eflag)}_s{seed}.parquet\",\n",
        "        \"--output-meta\", f\"metadata_b{b}_e{int(eflag)}_s{seed}.parquet\",\n",
        "        \"--bootstrap\", str(b),\n",
        "        \"--seed\", str(seed)\n",
        "    ]\n",
        "    if eflag:\n",
        "        args += [\"--energy-enable\", \"--energy-perm\", str(eperm), \"--energy-max-n\", str(emn)]\n",
        "    run_main(args)\n"
      ]
    },
    {
      "cell_type": "markdown",
      "metadata": {},
      "source": [
        "## Parameter reference (selected)\n",
        "\n",
        "- `--input` / `-i`: Input Parquet path (schema: MultiIndex `[id, time]`, columns `value`, `period`).\n",
        "- `--output-pred` / `-op`: Output Parquet path for predictors.\n",
        "- `--output-meta` / `-om`: Output Parquet path for metadata.\n",
        "- `--bootstrap` / `-b`: Bootstrap replicates for conditional tests.\n",
        "- `--energy-enable`: Enable energy-distance test (slower).\n",
        "- `--energy-perm` / `-ep`: Permutations for energy test when enabled.\n",
        "- `--energy-max-n` / `-emn`: Max samples per period for energy test.\n",
        "- `--n-jobs` / `-j`: Parallel workers (defaults to CPU-1).\n",
        "- `--seed` / `-s`: Global seed.\n",
        "- `--verbose` / `-v`: Verbose logging.\n"
      ]
    },
    {
      "cell_type": "markdown",
      "metadata": {
        "tags": [
          "From here"
        ]
      },
      "source": [
        "# ADIA Refactored – Getting Started\n",
        "\n",
        "This notebook gives a gentle intro to working with the `adia_refactored` package from a notebook environment. It covers:\n",
        "\n",
        "- Ensuring your environment can import the package\n",
        "- A quick single-series demo\n",
        "- A small batch demo using Parquet files\n",
        "- (Optional) Running the included example script\n",
        "\n",
        "If you see import errors for `numpy`/`pandas`/`pyarrow`, run the optional install cell below and then restart the kernel.\n"
      ]
    },
    {
      "cell_type": "code",
      "execution_count": 1,
      "metadata": {},
      "outputs": [
        {
          "name": "stdout",
          "output_type": "stream",
          "text": [
            "Dependencies appear to be installed. Skipping install.\n"
          ]
        }
      ],
      "source": [
        "# Optional: install project dependencies into the active kernel\n",
        "# If imports fail later, run this, then restart the kernel and re-run\n",
        "import sys\n",
        "import subprocess\n",
        "\n",
        "def ensure_deps():\n",
        "    try:\n",
        "        import numpy  # noqa: F401\n",
        "        import pandas  # noqa: F401\n",
        "        import pyarrow  # noqa: F401\n",
        "        print(\"Dependencies appear to be installed. Skipping install.\")\n",
        "        return\n",
        "    except Exception:\n",
        "        pass\n",
        "    print(\"Installing requirements...\")\n",
        "    subprocess.check_call([sys.executable, \"-m\", \"pip\", \"install\", \"-r\", \"requirements.txt\"])  # nosec\n",
        "\n",
        "ensure_deps()\n"
      ]
    },
    {
      "cell_type": "code",
      "execution_count": 2,
      "metadata": {},
      "outputs": [
        {
          "name": "stdout",
          "output_type": "stream",
          "text": [
            "Imports OK and config validated.\n"
          ]
        },
        {
          "name": "stderr",
          "output_type": "stream",
          "text": [
            "c:\\Users\\yehud\\adia_refactored\\.venv\\Lib\\site-packages\\tqdm\\auto.py:21: TqdmWarning: IProgress not found. Please update jupyter and ipywidgets. See https://ipywidgets.readthedocs.io/en/stable/user_install.html\n",
            "  from .autonotebook import tqdm as notebook_tqdm\n"
          ]
        }
      ],
      "source": [
        "# Setup: make package importable and validate config\n",
        "import sys, pathlib\n",
        "\n",
        "project_root = pathlib.Path().resolve()\n",
        "parent_dir = project_root.parent\n",
        "if str(parent_dir) not in sys.path:\n",
        "    sys.path.insert(0, str(parent_dir))\n",
        "\n",
        "from adia_refactored import compute_predictors_for_values, run_batch, validate_config\n",
        "validate_config()\n",
        "print(\"Imports OK and config validated.\")\n"
      ]
    },
    {
      "cell_type": "code",
      "execution_count": 3,
      "metadata": {},
      "outputs": [
        {
          "data": {
            "text/plain": [
              "({'p_mu_lag1': 1.0,\n",
              "  'p_sigma_lag1': 0.19047619047619047,\n",
              "  'overlap_frac_lag1': 0.475,\n",
              "  'p_mu_vol': 1.0,\n",
              "  'p_sigma_vol': 0.14285714285714285,\n",
              "  'overlap_frac_vol': 0.475,\n",
              "  'p_mu_resid_lag1': 1.0,\n",
              "  'p_sigma_resid_lag1': 0.42857142857142855,\n",
              "  'overlap_frac_resid_lag1': 0.4,\n",
              "  'p_mean': 2.553060822633691e-14,\n",
              "  'p_var': 0.003419625023376895,\n",
              "  'p_MWU': 4.7077819611781626e-11,\n",
              "  'p_energy': nan,\n",
              "  'acf_absdiff_l1': 0.32185753393519023},\n",
              " {'n_total_lag1': 119,\n",
              "  'n_p0_lag1': 59,\n",
              "  'n_p1_lag1': 60,\n",
              "  'n_total_vol': 118,\n",
              "  'n_p0_vol': 58,\n",
              "  'n_p1_vol': 60,\n",
              "  'n_period0': 59,\n",
              "  'n_period1': 60,\n",
              "  'n_total': 119})"
            ]
          },
          "execution_count": 3,
          "metadata": {},
          "output_type": "execute_result"
        }
      ],
      "source": [
        "# Single-series demo\n",
        "import numpy as np\n",
        "\n",
        "np.random.seed(42)\n",
        "n = 120\n",
        "bp = 60\n",
        "values = np.concatenate([\n",
        "    np.random.normal(0, 1.0, bp),\n",
        "    np.random.normal(1.5, 1.5, n - bp),\n",
        "])\n",
        "periods = np.concatenate([np.zeros(bp), np.ones(n - bp)])\n",
        "\n",
        "preds, meta = compute_predictors_for_values(values, periods, B_boot=20, energy_enable=False)\n",
        "preds, meta\n"
      ]
    },
    {
      "cell_type": "code",
      "execution_count": 4,
      "metadata": {},
      "outputs": [
        {
          "name": "stderr",
          "output_type": "stream",
          "text": [
            "INFO:adia_refactored.batch_processor:Loading _tmp_notebook\\sample_batch.parquet\n",
            "INFO:adia_refactored.batch_processor:Total series: 4\n",
            "INFO:adia_refactored.batch_processor:Saved predictors to: _tmp_notebook\\sample_predictors.parquet\n",
            "INFO:adia_refactored.batch_processor:Saved metadata to: _tmp_notebook\\sample_metadata.parquet\n"
          ]
        },
        {
          "name": "stdout",
          "output_type": "stream",
          "text": [
            "Processed series: 4\n",
            "Predictor columns: 14\n"
          ]
        },
        {
          "data": {
            "text/plain": [
              "(          p_mu_lag1  p_sigma_lag1  overlap_frac_lag1  p_mu_vol  p_sigma_vol  \\\n",
              " id                                                                            \n",
              " series_0        1.0      0.380952              0.525  0.238095     0.047619   \n",
              " series_1        1.0      0.047619              0.325  1.000000     0.190476   \n",
              " series_2        1.0      0.238095              0.500  1.000000     0.952381   \n",
              " series_3        1.0      0.857143              0.350  0.142857     0.476190   \n",
              " \n",
              "           overlap_frac_vol  p_mu_resid_lag1  p_sigma_resid_lag1  \\\n",
              " id                                                                \n",
              " series_0             0.700              1.0            0.095238   \n",
              " series_1             0.400              1.0            0.285714   \n",
              " series_2             0.675              1.0            0.238095   \n",
              " series_3             0.625              1.0            0.761905   \n",
              " \n",
              "           overlap_frac_resid_lag1    p_mean     p_var     p_MWU  p_energy  \\\n",
              " id                                                                          \n",
              " series_0                    0.550  0.000037  0.569776  0.000499       NaN   \n",
              " series_1                    0.350  0.750634  0.000358  0.906329       NaN   \n",
              " series_2                    0.500  0.000010  0.505994  0.000056       NaN   \n",
              " series_3                    0.325  0.559324  0.000531  0.617007       NaN   \n",
              " \n",
              "           acf_absdiff_l1  \n",
              " id                        \n",
              " series_0        0.926189  \n",
              " series_1        0.515500  \n",
              " series_2        0.216103  \n",
              " series_3        0.496989  ,\n",
              "           n_total_lag1  n_p0_lag1  n_p1_lag1  n_total_vol  n_p0_vol  n_p1_vol  \\\n",
              " id                                                                              \n",
              " series_0            79         39         40           78        38        40   \n",
              " series_1            79         39         40           78        38        40   \n",
              " series_2            79         39         40           78        38        40   \n",
              " series_3            79         39         40           78        38        40   \n",
              " \n",
              "           n_period0  n_period1  n_total  \n",
              " id                                       \n",
              " series_0         39         40       79  \n",
              " series_1         39         40       79  \n",
              " series_2         39         40       79  \n",
              " series_3         39         40       79  )"
            ]
          },
          "execution_count": 4,
          "metadata": {},
          "output_type": "execute_result"
        }
      ],
      "source": [
        "# Batch demo (writes and reads Parquet files under _tmp_notebook)\n",
        "from pathlib import Path\n",
        "import numpy as np\n",
        "import pandas as pd\n",
        "\n",
        "# Prepare synthetic batch\n",
        "tmp_dir = Path(\"_tmp_notebook\"); tmp_dir.mkdir(exist_ok=True)\n",
        "frames = []\n",
        "for i in range(4):\n",
        "    np.random.seed(100 + i)\n",
        "    n = 80; bp = 40\n",
        "    if i % 2 == 0:\n",
        "        vals = np.concatenate([np.random.normal(0, 1.0, bp),\n",
        "                               np.random.normal(1.2, 1.0, n - bp)])\n",
        "    else:\n",
        "        vals = np.concatenate([np.random.normal(0, 0.8, bp),\n",
        "                               np.random.normal(0, 1.8, n - bp)])\n",
        "    periods = np.concatenate([np.zeros(bp), np.ones(n - bp)])\n",
        "    df = pd.DataFrame({\"value\": vals, \"period\": periods})\n",
        "    df.index = pd.MultiIndex.from_tuples([(f\"series_{i}\", t) for t in range(n)], names=[\"id\", \"time\"])\n",
        "    frames.append(df)\n",
        "\n",
        "all_df = pd.concat(frames).sort_index()\n",
        "\n",
        "in_path = tmp_dir / \"sample_batch.parquet\"\n",
        "out_pred = tmp_dir / \"sample_predictors.parquet\"\n",
        "out_meta = tmp_dir / \"sample_metadata.parquet\"\n",
        "\n",
        "all_df.to_parquet(in_path)\n",
        "\n",
        "pred_df, meta_df = run_batch(\n",
        "    input_parquet=str(in_path),\n",
        "    out_pred_parquet=str(out_pred),\n",
        "    out_meta_parquet=str(out_meta),\n",
        "    B_boot=20,\n",
        "    energy_enable=False,\n",
        "    n_jobs=1,\n",
        "    verbose=False,\n",
        ")\n",
        "\n",
        "print(f\"Processed series: {len(pred_df)}\")\n",
        "print(f\"Predictor columns: {len(pred_df.columns)}\")\n",
        "pred_df.head(), meta_df.head()\n"
      ]
    },
    {
      "cell_type": "code",
      "execution_count": null,
      "metadata": {},
      "outputs": [],
      "source": [
        "# Optional: run the included script and (optionally) clean up temp files\n",
        "print(\"Running example_usage.py ...\")\n",
        "%run example_usage.py\n",
        "\n",
        "# Optional cleanup for this notebook's temp files\n",
        "from pathlib import Path\n",
        "for p in Path(\"_tmp_notebook\").glob(\"*.parquet\"):\n",
        "    try:\n",
        "        p.unlink()\n",
        "    except Exception:\n",
        "        pass\n"
      ]
    },
    {
      "cell_type": "code",
      "execution_count": null,
      "metadata": {},
      "outputs": [],
      "source": [
        "# Real-data batch run\n",
        "from pathlib import Path\n",
        "import os\n",
        "\n",
        "# Input files (edit paths if needed)\n",
        "input_parquet = r\"C:\\Users\\yehud\\OneDrive\\Curriculum Vitae\\ADIA\\StructualBreak\\X_train.parquet\"\n",
        "out_pred_parquet = r\"C:\\Users\\yehud\\OneDrive\\Curriculum Vitae\\ADIA\\StructualBreak\\X_train_predictors.parquet\"\n",
        "out_meta_parquet = r\"C:\\Users\\yehud\\OneDrive\\Curriculum Vitae\\ADIA\\StructualBreak\\X_train_metadata.parquet\"\n",
        "\n",
        "print(\"Reading:\", input_parquet)\n",
        "\n",
        "pred_df, meta_df = run_batch(\n",
        "    input_parquet=input_parquet,\n",
        "    out_pred_parquet=out_pred_parquet,\n",
        "    out_meta_parquet=out_meta_parquet,\n",
        "    B_boot=80,\n",
        "    energy_enable=False,\n",
        "    n_jobs=1,\n",
        "    verbose=True,\n",
        ")\n",
        "\n",
        "print(\"Saved predictors to:\", out_pred_parquet)\n",
        "print(\"Saved metadata to:\", out_meta_parquet)\n",
        "print(\"Predictors shape:\", pred_df.shape)\n",
        "print(\"Metadata shape:\", meta_df.shape)\n",
        "pred_df.head()\n"
      ]
    },
    {
      "cell_type": "code",
      "execution_count": null,
      "metadata": {},
      "outputs": [],
      "source": [
        "# Merge predictors with labels for inspection\n",
        "import pandas as pd\n",
        "\n",
        "labels_csv = r\"C:\\Users\\yehud\\OneDrive\\Curriculum Vitae\\ADIA\\StructualBreak\\y_train.csv\"\n",
        "print(\"Reading labels:\", labels_csv)\n",
        "labels = pd.read_csv(labels_csv)\n",
        "\n",
        "# Try common label column names; adjust if needed\n",
        "possible_label_cols = [\n",
        "    'structural', 'structural_', 'is_structural', 'label', 'target'\n",
        "]\n",
        "label_col = None\n",
        "for c in possible_label_cols:\n",
        "    if c in labels.columns:\n",
        "        label_col = c\n",
        "        break\n",
        "if label_col is None:\n",
        "    print(\"Available columns in labels:\", list(labels.columns))\n",
        "    raise ValueError(\"Could not find a label column. Set label_col to the correct name.\")\n",
        "\n",
        "# Ensure id is index to align with pred_df which is indexed by id\n",
        "if 'id' in labels.columns:\n",
        "    labels = labels.set_index('id')\n",
        "\n",
        "merged = pred_df.join(labels[[label_col]], how='inner')\n",
        "print(\"Merged shape:\", merged.shape)\n",
        "merged.head()\n"
      ]
    }
  ],
  "metadata": {
    "kernelspec": {
      "display_name": ".venv",
      "language": "python",
      "name": "python3"
    },
    "language_info": {
      "codemirror_mode": {
        "name": "ipython",
        "version": 3
      },
      "file_extension": ".py",
      "mimetype": "text/x-python",
      "name": "python",
      "nbconvert_exporter": "python",
      "pygments_lexer": "ipython3",
      "version": "3.13.1"
    }
  },
  "nbformat": 4,
  "nbformat_minor": 2
}
